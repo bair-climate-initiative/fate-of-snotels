{
 "cells": [
  {
   "cell_type": "code",
   "execution_count": 1,
   "id": "84aa3fe8-5356-450d-a6ab-bac00aa6b194",
   "metadata": {},
   "outputs": [],
   "source": [
    "import glob\n",
    "import xarray as xr\n",
    "import pandas as pd"
   ]
  },
  {
   "cell_type": "code",
   "execution_count": 2,
   "id": "ef7e3630-d68a-4bcf-9b60-460e4c3b245a",
   "metadata": {},
   "outputs": [],
   "source": [
    "files = glob.glob('/glade/u/home/mcowherd/fos-data/snoteldata/*.csv')\n",
    "#test = xr.open_dataset(files[1])\n",
    "df = pd.read_csv(files[1])  #.to_dataframe()"
   ]
  },
  {
   "cell_type": "code",
   "execution_count": 3,
   "id": "a244c77d-9451-4087-9ed5-e176f316acc0",
   "metadata": {},
   "outputs": [],
   "source": [
    "pvars = list(df.columns)[0:-1]"
   ]
  },
  {
   "cell_type": "code",
   "execution_count": 4,
   "id": "9888a89c-9518-48b0-a67a-513d10e86a25",
   "metadata": {},
   "outputs": [],
   "source": [
    "import pandas as pd\n",
    "import numpy as np\n",
    "from sklearn.linear_model import LinearRegression\n",
    "from sklearn.tree import DecisionTreeRegressor\n",
    "from sklearn.ensemble import RandomForestRegressor\n",
    "from sklearn.svm import SVR\n",
    "from sklearn.neural_network import MLPRegressor\n",
    "from sklearn.metrics import mean_squared_error, r2_score\n",
    "import pandas as pd\n",
    "import numpy as np\n",
    "from sklearn.linear_model import LinearRegression, Ridge, Lasso\n",
    "from sklearn.tree import DecisionTreeRegressor\n",
    "from sklearn.ensemble import RandomForestRegressor, GradientBoostingRegressor\n",
    "from sklearn.svm import SVR\n",
    "from sklearn.neural_network import MLPRegressor\n",
    "from sklearn.neighbors import KNeighborsRegressor\n",
    "from sklearn.metrics import mean_squared_error, r2_score\n",
    "# Load the data into a pandas DataFrame\n",
    "\n",
    "def run_models(df, num_preds, name):\n",
    "    '''\n",
    "    df is the input\n",
    "    df currently comes from the time_series folder, but there is a better way!!! we want to be better at defining if we mean April 1 or the peak water year\n",
    "    if we mean peak of the water year, does this mean 1 day per year (peak of the basin average) or each pixel's peak? probably peak average across the basin?\n",
    "    or the total accumulation of snow across the basin, which means each individual square is peak separately. do this fast ish with dask.\n",
    "    '''\n",
    "    outputs = []\n",
    "    data = df\n",
    "    # Split the data into training and testing sets\n",
    "    train_data = data[0:86] #.sample(frac=0.8, random_state=1)\n",
    "    test_data = data[86:] # .drop(train_data.index)\n",
    "    # Define the input and output variables\n",
    "    pvars = list(df.columns)[0:-1]\n",
    "    if len(pvars) >= num_preds:\n",
    "        input_vars = pvars[0:num_preds]\n",
    "    output_var = 'maxval_basin' # Basin-wide snow water equivalent\n",
    "\n",
    "    # Simple models\n",
    "    # Model 1: All values are equivalent to the basin-wide value\n",
    "    y_train = np.array(train_data[output_var])\n",
    "    y_test = np.array(test_data[output_var])\n",
    "    y_pred = np.full((len(y_test)), y_train.mean())\n",
    "    outputs.append({'basin':name, 'model':1, 'MSE': mean_squared_error(y_test, y_pred), 'R2':r2_score(y_test, y_pred), 'ytest': y_test, 'ypred':y_pred})\n",
    "\n",
    "    # Model 2: Linear regression\n",
    "    X_train = train_data[input_vars].values.reshape((-1, len(input_vars)))\n",
    "    X_test = test_data[input_vars].values.reshape((-1, len(input_vars)))\n",
    "    reg = LinearRegression().fit(X_train, y_train)\n",
    "    y_pred = reg.predict(X_test)\n",
    "    outputs.append({'model':2, 'MSE': mean_squared_error(y_test, y_pred), 'R2':r2_score(y_test, y_pred), 'ytest': y_test, 'ypred':y_pred})\n",
    "\n",
    "    # Load the data into a pandas DataFrame\n",
    "    # Split the data into training and testing sets\n",
    "    train_data = data.sample(frac=0.8, random_state=1)\n",
    "    test_data = data.drop(train_data.index)\n",
    "\n",
    "    # Define the input and output variables\n",
    "    # Complex models\n",
    "    # Model 3: K-Nearest Neighbors Regressor\n",
    "    knn = KNeighborsRegressor(n_neighbors=3)\n",
    "    knn.fit(X_train, y_train)\n",
    "    y_pred = knn.predict(X_test)\n",
    "    outputs.append({'model':3, 'MSE': mean_squared_error(y_test, y_pred), 'R2':r2_score(y_test, y_pred), 'ytest': y_test, 'ypred':y_pred})\n",
    "\n",
    "\n",
    "    # Model 4: Ridge Regression\n",
    "    ridge = Ridge(alpha=1.0)\n",
    "    ridge.fit(X_train, y_train)\n",
    "    y_pred = ridge.predict(X_test)\n",
    "    outputs.append({'model':4, 'MSE': mean_squared_error(y_test, y_pred), 'R2':r2_score(y_test, y_pred), 'ytest': y_test, 'ypred':y_pred})\n",
    "\n",
    "\n",
    "    # Model 5: Lasso Regression\n",
    "    lasso = Lasso(alpha=1.0)\n",
    "    lasso.fit(X_train, y_train)\n",
    "    y_pred = lasso.predict(X_test)\n",
    "    outputs.append({'model':5, 'MSE': mean_squared_error(y_test, y_pred), 'R2':r2_score(y_test, y_pred), 'ytest': y_test, 'ypred':y_pred})\n",
    "\n",
    "    return {'name':name, 'outputs':outputs, 'preds': [num_preds, len(pvars)], 'pct': num_preds/len(pvars)}\n",
    "\n",
    "\n"
   ]
  },
  {
   "cell_type": "code",
   "execution_count": 5,
   "id": "26f44b49-2eb6-4cbc-b947-107bf1634e79",
   "metadata": {},
   "outputs": [
    {
     "name": "stdout",
     "output_type": "stream",
     "text": [
      "2105\n",
      "missing 4457 basin-model combos\n"
     ]
    }
   ],
   "source": [
    "files = glob.glob('/glade/u/home/mcowherd/nh-WRF/time_series/*')\n",
    "errs= []\n",
    "all_outs = []\n",
    "for fn in files:\n",
    "    data = xr.open_dataset(fn)\n",
    "    df = data.to_dataframe()\n",
    "    name = fn.split('/')[-1].split('.nc')[0]\n",
    "    for num_preds in range(1,35):\n",
    "        try:\n",
    "            all_outs.append(run_models(df, num_preds, name))\n",
    "        except:\n",
    "            errs.append(fn)\n",
    "print(len(all_outs))\n",
    "print(f'missing {len(errs)} basin-model combos')"
   ]
  },
  {
   "cell_type": "code",
   "execution_count": 17,
   "id": "73fb76c9-7727-4eef-801b-2a46a141bc1b",
   "metadata": {},
   "outputs": [],
   "source": [
    "for out in all_outs[0:1]:\n",
    "    outs_df = pd.DataFrame(out['outputs'])\n",
    "    outs_df['basin'] = outs_df['basin'][0]\n",
    "    outs_df['preds'] = [out['preds'] for val in outs_df.index]\n",
    "    outs_df['pct'] = [out['pct'] for val in outs_df.index]\n",
    "\n",
    "for out in all_outs[1:]:\n",
    "    tmp1 = pd.DataFrame(out['outputs'])\n",
    "    tmp1['basin'] = tmp1['basin'][0]\n",
    "    tmp1['preds'] = [out['preds'] for val in tmp1.index]\n",
    "    tmp1['pct'] = [out['pct'] for val in tmp1.index]\n",
    "\n",
    "    outs_df = pd.concat([outs_df,tmp1])\n",
    "    \n",
    "outs_grp = outs_df.groupby(['basin','model','pct']).first()\n",
    "outs_grp['num_preds'] = [val[0] for val in outs_grp.preds]\n",
    "outs_df['num_preds'] = [val[0] for val in outs_df.preds]\n",
    "outs_df['err_by_year'] = [(data['ypred'] - data['ytest'])/data['ytest'] for i,data in outs_df.iterrows()]\n",
    "tmp = outs_df.groupby(['basin','model','num_preds']).mean(['ypred','ytest'])"
   ]
  },
  {
   "cell_type": "code",
   "execution_count": 28,
   "id": "a5faccb3-b78e-48c2-a4d0-3a32e9cdd333",
   "metadata": {},
   "outputs": [],
   "source": [
    "tmp = tmp.reset_index()"
   ]
  },
  {
   "cell_type": "code",
   "execution_count": 30,
   "id": "b2501453-dd0e-401e-ad9b-59b275c77b7e",
   "metadata": {},
   "outputs": [
    {
     "data": {
      "image/png": "[encoded data removed]",
      "text/plain": [
       "<Figure size 640x480 with 2 Axes>"
      ]
     },
     "metadata": {},
     "output_type": "display_data"
    }
   ],
   "source": [
    "import matplotlib.pyplot as plt\n",
    "fig,axs=plt.subplots(1,2)\n",
    "axs[0].set_title('MSE')\n",
    "axs[1].set_title('R2')\n",
    "for model in np.unique(tmp['model']):\n",
    "    data = tmp[tmp.model == model]\n",
    "    axs[0].hist(data.MSE, alpha = 0.3, label = model)\n",
    "    axs[1].hist(data.R2, alpha = 0.3, label = model)\n",
    "axs[0].legend()\n",
    "plt.show()"
   ]
  },
  {
   "cell_type": "code",
   "execution_count": 31,
   "id": "dfc004d5-0042-411c-acf5-80dd305fbbed",
   "metadata": {},
   "outputs": [
    {
     "ename": "ValueError",
     "evalue": "x and y must have same first dimension, but have shapes (85,) and (31,)",
     "output_type": "error",
     "traceback": [
      "\u001b[0;31m---------------------------------------------------------------------------\u001b[0m",
      "\u001b[0;31mValueError\u001b[0m                                Traceback (most recent call last)",
      "Cell \u001b[0;32mIn[31], line 7\u001b[0m\n\u001b[1;32m      5\u001b[0m         data \u001b[38;5;241m=\u001b[39m outs_df[(outs_df\u001b[38;5;241m.\u001b[39mmodel \u001b[38;5;241m==\u001b[39m mod)]\n\u001b[1;32m      6\u001b[0m         arr \u001b[38;5;241m=\u001b[39m np\u001b[38;5;241m.\u001b[39marray(data[\u001b[38;5;124m'\u001b[39m\u001b[38;5;124merr_by_year\u001b[39m\u001b[38;5;124m'\u001b[39m]\u001b[38;5;241m.\u001b[39mtolist())\n\u001b[0;32m----> 7\u001b[0m         \u001b[43max\u001b[49m\u001b[38;5;241;43m.\u001b[39;49m\u001b[43mplot\u001b[49m\u001b[43m(\u001b[49m\u001b[43myears\u001b[49m\u001b[43m,\u001b[49m\u001b[43m \u001b[49m\u001b[43mnp\u001b[49m\u001b[38;5;241;43m.\u001b[39;49m\u001b[43mmean\u001b[49m\u001b[43m(\u001b[49m\u001b[43marr\u001b[49m\u001b[43m,\u001b[49m\u001b[43m \u001b[49m\u001b[43maxis\u001b[49m\u001b[43m \u001b[49m\u001b[38;5;241;43m=\u001b[39;49m\u001b[43m \u001b[49m\u001b[38;5;241;43m0\u001b[39;49m\u001b[43m)\u001b[49m\u001b[43m,\u001b[49m\u001b[43m \u001b[49m\u001b[43malpha\u001b[49m\u001b[43m \u001b[49m\u001b[38;5;241;43m=\u001b[39;49m\u001b[38;5;241;43m0.3\u001b[39;49m\u001b[43m)\u001b[49m\n\u001b[1;32m      8\u001b[0m plt\u001b[38;5;241m.\u001b[39mshow()\n",
      "File \u001b[0;32m~/.conda/envs/fos/lib/python3.10/site-packages/matplotlib/axes/_axes.py:1688\u001b[0m, in \u001b[0;36mAxes.plot\u001b[0;34m(self, scalex, scaley, data, *args, **kwargs)\u001b[0m\n\u001b[1;32m   1445\u001b[0m \u001b[38;5;124;03m\"\"\"\u001b[39;00m\n\u001b[1;32m   1446\u001b[0m \u001b[38;5;124;03mPlot y versus x as lines and/or markers.\u001b[39;00m\n\u001b[1;32m   1447\u001b[0m \n\u001b[0;32m   (...)\u001b[0m\n\u001b[1;32m   1685\u001b[0m \u001b[38;5;124;03m(``'green'``) or hex strings (``'#008000'``).\u001b[39;00m\n\u001b[1;32m   1686\u001b[0m \u001b[38;5;124;03m\"\"\"\u001b[39;00m\n\u001b[1;32m   1687\u001b[0m kwargs \u001b[38;5;241m=\u001b[39m cbook\u001b[38;5;241m.\u001b[39mnormalize_kwargs(kwargs, mlines\u001b[38;5;241m.\u001b[39mLine2D)\n\u001b[0;32m-> 1688\u001b[0m lines \u001b[38;5;241m=\u001b[39m [\u001b[38;5;241m*\u001b[39m\u001b[38;5;28mself\u001b[39m\u001b[38;5;241m.\u001b[39m_get_lines(\u001b[38;5;241m*\u001b[39margs, data\u001b[38;5;241m=\u001b[39mdata, \u001b[38;5;241m*\u001b[39m\u001b[38;5;241m*\u001b[39mkwargs)]\n\u001b[1;32m   1689\u001b[0m \u001b[38;5;28;01mfor\u001b[39;00m line \u001b[38;5;129;01min\u001b[39;00m lines:\n\u001b[1;32m   1690\u001b[0m     \u001b[38;5;28mself\u001b[39m\u001b[38;5;241m.\u001b[39madd_line(line)\n",
      "File \u001b[0;32m~/.conda/envs/fos/lib/python3.10/site-packages/matplotlib/axes/_base.py:311\u001b[0m, in \u001b[0;36m_process_plot_var_args.__call__\u001b[0;34m(self, data, *args, **kwargs)\u001b[0m\n\u001b[1;32m    309\u001b[0m     this \u001b[38;5;241m+\u001b[39m\u001b[38;5;241m=\u001b[39m args[\u001b[38;5;241m0\u001b[39m],\n\u001b[1;32m    310\u001b[0m     args \u001b[38;5;241m=\u001b[39m args[\u001b[38;5;241m1\u001b[39m:]\n\u001b[0;32m--> 311\u001b[0m \u001b[38;5;28;01myield from\u001b[39;00m \u001b[38;5;28;43mself\u001b[39;49m\u001b[38;5;241;43m.\u001b[39;49m\u001b[43m_plot_args\u001b[49m\u001b[43m(\u001b[49m\n\u001b[1;32m    312\u001b[0m \u001b[43m    \u001b[49m\u001b[43mthis\u001b[49m\u001b[43m,\u001b[49m\u001b[43m \u001b[49m\u001b[43mkwargs\u001b[49m\u001b[43m,\u001b[49m\u001b[43m \u001b[49m\u001b[43mambiguous_fmt_datakey\u001b[49m\u001b[38;5;241;43m=\u001b[39;49m\u001b[43mambiguous_fmt_datakey\u001b[49m\u001b[43m)\u001b[49m\n",
      "File \u001b[0;32m~/.conda/envs/fos/lib/python3.10/site-packages/matplotlib/axes/_base.py:504\u001b[0m, in \u001b[0;36m_process_plot_var_args._plot_args\u001b[0;34m(self, tup, kwargs, return_kwargs, ambiguous_fmt_datakey)\u001b[0m\n\u001b[1;32m    501\u001b[0m     \u001b[38;5;28mself\u001b[39m\u001b[38;5;241m.\u001b[39maxes\u001b[38;5;241m.\u001b[39myaxis\u001b[38;5;241m.\u001b[39mupdate_units(y)\n\u001b[1;32m    503\u001b[0m \u001b[38;5;28;01mif\u001b[39;00m x\u001b[38;5;241m.\u001b[39mshape[\u001b[38;5;241m0\u001b[39m] \u001b[38;5;241m!=\u001b[39m y\u001b[38;5;241m.\u001b[39mshape[\u001b[38;5;241m0\u001b[39m]:\n\u001b[0;32m--> 504\u001b[0m     \u001b[38;5;28;01mraise\u001b[39;00m \u001b[38;5;167;01mValueError\u001b[39;00m(\u001b[38;5;124mf\u001b[39m\u001b[38;5;124m\"\u001b[39m\u001b[38;5;124mx and y must have same first dimension, but \u001b[39m\u001b[38;5;124m\"\u001b[39m\n\u001b[1;32m    505\u001b[0m                      \u001b[38;5;124mf\u001b[39m\u001b[38;5;124m\"\u001b[39m\u001b[38;5;124mhave shapes \u001b[39m\u001b[38;5;132;01m{\u001b[39;00mx\u001b[38;5;241m.\u001b[39mshape\u001b[38;5;132;01m}\u001b[39;00m\u001b[38;5;124m and \u001b[39m\u001b[38;5;132;01m{\u001b[39;00my\u001b[38;5;241m.\u001b[39mshape\u001b[38;5;132;01m}\u001b[39;00m\u001b[38;5;124m\"\u001b[39m)\n\u001b[1;32m    506\u001b[0m \u001b[38;5;28;01mif\u001b[39;00m x\u001b[38;5;241m.\u001b[39mndim \u001b[38;5;241m>\u001b[39m \u001b[38;5;241m2\u001b[39m \u001b[38;5;129;01mor\u001b[39;00m y\u001b[38;5;241m.\u001b[39mndim \u001b[38;5;241m>\u001b[39m \u001b[38;5;241m2\u001b[39m:\n\u001b[1;32m    507\u001b[0m     \u001b[38;5;28;01mraise\u001b[39;00m \u001b[38;5;167;01mValueError\u001b[39;00m(\u001b[38;5;124mf\u001b[39m\u001b[38;5;124m\"\u001b[39m\u001b[38;5;124mx and y can be no greater than 2D, but have \u001b[39m\u001b[38;5;124m\"\u001b[39m\n\u001b[1;32m    508\u001b[0m                      \u001b[38;5;124mf\u001b[39m\u001b[38;5;124m\"\u001b[39m\u001b[38;5;124mshapes \u001b[39m\u001b[38;5;132;01m{\u001b[39;00mx\u001b[38;5;241m.\u001b[39mshape\u001b[38;5;132;01m}\u001b[39;00m\u001b[38;5;124m and \u001b[39m\u001b[38;5;132;01m{\u001b[39;00my\u001b[38;5;241m.\u001b[39mshape\u001b[38;5;132;01m}\u001b[39;00m\u001b[38;5;124m\"\u001b[39m)\n",
      "\u001b[0;31mValueError\u001b[0m: x and y must have same first dimension, but have shapes (85,) and (31,)"
     ]
    },
    {
     "data": {
      "image/png": "[encoded data removed]",
      "text/plain": [
       "<Figure size 640x480 with 1 Axes>"
      ]
     },
     "metadata": {},
     "output_type": "display_data"
    }
   ],
   "source": [
    "years = range(2015,2100)\n",
    "fig,ax=plt.subplots()\n",
    "for mod in np.unique(outs_df.model):\n",
    "    for n in range(1,max(outs_df.num_preds)):\n",
    "        data = outs_df[(outs_df.model == mod)]\n",
    "        arr = np.array(data['err_by_year'].tolist())\n",
    "        ax.plot(years, np.mean(arr, axis = 0), alpha =0.3)\n",
    "plt.show()"
   ]
  },
  {
   "cell_type": "code",
   "execution_count": 38,
   "id": "6a992ab3-4b7c-4852-b6c4-110bc8fd4441",
   "metadata": {},
   "outputs": [],
   "source": [
    "test = outs_df.loc[0]['err_by_year']"
   ]
  },
  {
   "cell_type": "code",
   "execution_count": 40,
   "id": "738ebd3d-59cd-48d3-9f04-1d1802131110",
   "metadata": {},
   "outputs": [
    {
     "data": {
      "text/plain": [
       "0    [0.557027199550357, 0.005052308392268525, 0.27...\n",
       "0    [0.557027199550357, 0.005052308392268525, 0.27...\n",
       "0    [0.557027199550357, 0.005052308392268525, 0.27...\n",
       "0    [0.557027199550357, 0.005052308392268525, 0.27...\n",
       "0    [0.557027199550357, 0.005052308392268525, 0.27...\n",
       "                           ...                        \n",
       "0    [2.504176719906872, 2.454364642600865, 3.16272...\n",
       "0    [2.504176719906872, 2.454364642600865, 3.16272...\n",
       "0    [2.504176719906872, 2.454364642600865, 3.16272...\n",
       "0    [2.504176719906872, 2.454364642600865, 3.16272...\n",
       "0    [2.504176719906872, 2.454364642600865, 3.16272...\n",
       "Name: err_by_year, Length: 2105, dtype: object"
      ]
     },
     "execution_count": 40,
     "metadata": {},
     "output_type": "execute_result"
    }
   ],
   "source": [
    "test"
   ]
  },
  {
   "cell_type": "code",
   "execution_count": null,
   "id": "2eb0a1b5-e459-466f-abfc-8c1ed8aad6f4",
   "metadata": {},
   "outputs": [],
   "source": [
    "# by model\n",
    "fig,ax=plt.subplots()\n",
    "for mod in np.unique(outs_df.model):\n",
    "    ls = []\n",
    "    for n in range(1,max(outs_df.num_preds)):\n",
    "        data = outs_df[(outs_df.model == mod) & (outs_df.num_preds == n)]\n",
    "        ls.append(np.mean(np.array(data['err_by_year'].tolist()),axis=0))\n",
    "    ax.plot(years, np.mean(np.array(ls), axis = 0), alpha =0.8, label = mod)\n",
    "ax.legend()\n",
    "plt.show()"
   ]
  },
  {
   "cell_type": "code",
   "execution_count": null,
   "id": "d3da0d2b-6b4e-46f2-9edc-58934f84e560",
   "metadata": {},
   "outputs": [],
   "source": [
    "# by number of predictors\n",
    "fig,ax=plt.subplots()\n",
    "for mod in np.unique(outs_df.num_preds):\n",
    "    ls = []\n",
    "    for n in range(1,max(outs_df.num_preds)):\n",
    "        data = outs_df[(outs_df.model == mod) & (outs_df.num_preds == n)]\n",
    "        ls.append(np.mean(np.array(data['err_by_year'].tolist()),axis=0))\n",
    "    ax.plot(np.mean(np.array(ls), axis = 0), alpha =0.8, label = mod)\n",
    "ax.legend()\n",
    "plt.show()"
   ]
  },
  {
   "cell_type": "code",
   "execution_count": null,
   "id": "f92ea689-4742-4554-b7f7-27bb8ad697de",
   "metadata": {},
   "outputs": [],
   "source": [
    "fig,ax=plt.subplots()\n",
    "cb = ax.hexbin(outs_grp.reset_index()['pct'], outs_grp.reset_index()['model'],C = outs_grp.MSE, gridsize = 4, bins = 'log', cmap = 'BrBG')\n",
    "ax.set_yticks([1,2,3,4,5])\n",
    "ax.set_yticklabels(['=basin','linreg', 'KNN', 'ridge', 'lasso'])\n",
    "ax.set_ylabel('model number')\n",
    "ax.set_xlabel('pct of stations')\n",
    "plt.colorbar(cb)\n",
    "plt.show()\n",
    "fig,ax=plt.subplots()\n",
    "cb = ax.hexbin(outs_grp.reset_index()['pct'], outs_grp.reset_index()['model'],C = outs_grp.R2, gridsize = 4, bins = 'log', cmap = 'coolwarm_r')\n",
    "ax.set_yticks([1,2,3,4,5])\n",
    "ax.set_yticklabels(['=basin','linreg', 'KNN', 'ridge', 'lasso'])\n",
    "ax.set_ylabel('model number')\n",
    "ax.set_xlabel('pct of stations')\n",
    "plt.colorbar(cb)\n",
    "plt.show()"
   ]
  },
  {
   "cell_type": "code",
   "execution_count": null,
   "id": "514dc97b-0283-4f08-8dde-d49d28b77bfe",
   "metadata": {},
   "outputs": [],
   "source": [
    "fig,ax=plt.subplots()\n",
    "cb = ax.hexbin(outs_grp.reset_index()['num_preds'], outs_grp.reset_index()['model'],C = outs_grp.MSE, gridsize = 4, bins = 'log', cmap = 'BrBG')\n",
    "ax.set_yticks([1,2,3,4,5])\n",
    "ax.set_yticklabels(['=basin','linreg', 'KNN', 'ridge', 'lasso'])\n",
    "ax.set_ylabel('model number')\n",
    "ax.set_xlabel('number of predictor stations')\n",
    "plt.colorbar(cb)\n",
    "plt.show()\n",
    "fig,ax=plt.subplots()\n",
    "cb = ax.hexbin(outs_grp.reset_index()['num_preds'], outs_grp.reset_index()['model'],C = outs_grp.R2, gridsize = 4, bins = 'log', cmap = 'coolwarm_r')\n",
    "ax.set_yticks([1,2,3,4,5])\n",
    "ax.set_yticklabels(['=basin','linreg', 'KNN', 'ridge', 'lasso'])\n",
    "ax.set_ylabel('model number')\n",
    "ax.set_xlabel('number of predictor stations')\n",
    "plt.colorbar(cb)\n",
    "plt.show()"
   ]
  },
  {
   "cell_type": "code",
   "execution_count": null,
   "id": "4316d2d3-aea8-44ec-8054-12e762a69edb",
   "metadata": {},
   "outputs": [],
   "source": [
    "import glob\n",
    "import xarray as xr\n",
    "folder = '/glade/campaign/uwyo/wyom0112/postprocess/meta/meta_new/'\n",
    "files = glob.glob(folder + '*')"
   ]
  },
  {
   "cell_type": "code",
   "execution_count": null,
   "id": "29598b2a-d879-430a-b183-32341640a6a1",
   "metadata": {},
   "outputs": [],
   "source": [
    "files\n"
   ]
  },
  {
   "cell_type": "code",
   "execution_count": null,
   "id": "7d64e066-7bb1-466c-b3a3-d826ec903487",
   "metadata": {},
   "outputs": [],
   "source": [
    "elev = xr.open_dataset(files[0])\n",
    "from pydem.dem_processing import DEMProcessor\n",
    "\n",
    "dem_proc = DEMProcessor(files[0])\n",
    "\n",
    "mag, aspect = dem_proc.calc_slopes_directions()\n"
   ]
  },
  {
   "cell_type": "code",
   "execution_count": null,
   "id": "3ebbb012-07e5-4917-abe2-3e6b44b23c80",
   "metadata": {},
   "outputs": [],
   "source": [
    "import numpy as np\n",
    "from scipy.spatial.distance import cdist\n",
    "\n",
    "# Load DEM grid data using rasterio\n",
    "dem_arr = elev['HGT']\n",
    "\n",
    "# Extract slope, aspect, elevation, and radiation factor values using pyDEM\n",
    "from pydem import slope, aspect, hillshade\n",
    "slope_arr = slope(dem_arr, 1)\n",
    "aspect_arr = aspect(dem_arr, 1)\n",
    "radiation_arr = hillshade(dem_arr, 1)\n",
    "elevation_arr = dem_arr\n",
    "\n",
    "# Define lat lon points to compare against the grid\n",
    "lat_lon_points = [[42.3, -71.1], [42.4, -71.2], [42.5, -71.3],\n",
    "                  [42.6, -71.4], [42.7, -71.5], [42.8, -71.6], [42.9, -71.7]]\n",
    "\n",
    "# Calculate similarity metric for each lat lon point\n",
    "similarity_matrix = np.zeros((len(lat_lon_points), dem_data.width * dem_data.height))\n",
    "\n",
    "for i, lat_lon in enumerate(lat_lon_points):\n",
    "    # Convert lat lon to pixel coordinates\n",
    "    row, col = dem_data.index(lat_lon[1], lat_lon[0])\n",
    "    \n",
    "    # Extract slope, aspect, elevation, and radiation factor values for the current point\n",
    "    slope_val = slope_arr[row, col]\n",
    "    aspect_val = aspect_arr[row, col]\n",
    "    radiation_val = radiation_arr[row, col]\n",
    "    elevation_val = elevation_arr[row, col]\n",
    "    \n",
    "    # Calculate Euclidean distance to every point on the grid\n",
    "    grid_vals = np.stack((slope_arr.ravel(), aspect_arr.ravel(), radiation_arr.ravel(), elevation_arr.ravel()), axis=1)\n",
    "    point_vals = np.array([slope_val, aspect_val, radiation_val, elevation_val]).reshape(1, -1)\n",
    "    dist = cdist(point_vals, grid_vals)\n",
    "    \n",
    "    # Convert distance to similarity metric using inverse distance weighting\n",
    "    sim = 1 / (dist + 0.0001) # Add a small value to avoid division by zero\n",
    "    sim = sim.ravel()\n",
    "    sim /= np.sum(sim) # Normalize to sum to 1\n",
    "    similarity_matrix[i, :] = sim\n",
    "\n",
    "print(similarity_matrix)\n"
   ]
  },
  {
   "cell_type": "code",
   "execution_count": null,
   "id": "c3efcaed-2da3-48e5-afc6-f3f531905533",
   "metadata": {},
   "outputs": [],
   "source": [
    "elev"
   ]
  }
 ],
 "metadata": {
  "kernelspec": {
   "display_name": "fos",
   "language": "python",
   "name": "fos"
  },
  "language_info": {
   "codemirror_mode": {
    "name": "ipython",
    "version": 3
   },
   "file_extension": ".py",
   "mimetype": "text/x-python",
   "name": "python",
   "nbconvert_exporter": "python",
   "pygments_lexer": "ipython3",
   "version": "3.10.8"
  }
 },
 "nbformat": 4,
 "nbformat_minor": 5
}
