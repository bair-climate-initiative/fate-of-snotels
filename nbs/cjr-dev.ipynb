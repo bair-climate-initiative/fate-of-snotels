{
 "cells": [
  {
   "cell_type": "code",
   "execution_count": 1,
   "metadata": {},
   "outputs": [],
   "source": [
    "from fos import util"
   ]
  },
  {
   "cell_type": "code",
   "execution_count": 2,
   "metadata": {},
   "outputs": [
    {
     "ename": "ValueError",
     "evalue": "zero-size array to reduction operation maximum which has no identity",
     "output_type": "error",
     "traceback": [
      "\u001b[0;31m---------------------------------------------------------------------------\u001b[0m",
      "\u001b[0;31mValueError\u001b[0m                                Traceback (most recent call last)",
      "Cell \u001b[0;32mIn [2], line 2\u001b[0m\n\u001b[1;32m      1\u001b[0m snotel_gdf, _, _, _ \u001b[39m=\u001b[39m util\u001b[39m.\u001b[39mget_coords()\n\u001b[0;32m----> 2\u001b[0m wrf_df \u001b[39m=\u001b[39m util\u001b[39m.\u001b[39;49mcreate_wrf_df(snotel_gdf)\n",
      "File \u001b[0;32m/global/project/projectdirs/m4099/fate-of-snotel/fos/fos/util.py:257\u001b[0m, in \u001b[0;36mcreate_wrf_df\u001b[0;34m(snotel_gdf)\u001b[0m\n\u001b[1;32m    255\u001b[0m     wpt \u001b[39m=\u001b[39m get_peak_date_amt(wrfpoint)\n\u001b[1;32m    256\u001b[0m     wbas \u001b[39m=\u001b[39m get_peak_date_amt(wrfbasin)\n\u001b[0;32m--> 257\u001b[0m     sm \u001b[39m=\u001b[39m get_peak_date_amt(snotelpoint)\n\u001b[1;32m    258\u001b[0m     entries\u001b[39m.\u001b[39mappend(\u001b[39mdict\u001b[39m(name\u001b[39m=\u001b[39mname, wpt\u001b[39m=\u001b[39mwpt, wbas\u001b[39m=\u001b[39mwbas, sm\u001b[39m=\u001b[39msm, pt\u001b[39m=\u001b[39mpt))\n\u001b[1;32m    259\u001b[0m \u001b[39mexcept\u001b[39;00m \u001b[39mFileNotFoundError\u001b[39;00m:\n",
      "File \u001b[0;32m/global/project/projectdirs/m4099/fate-of-snotel/fos/fos/util.py:126\u001b[0m, in \u001b[0;36mget_peak_date_amt\u001b[0;34m(data)\u001b[0m\n\u001b[1;32m    124\u001b[0m timemask \u001b[39m=\u001b[39m (data\u001b[39m.\u001b[39mindex\u001b[39m.\u001b[39mdate \u001b[39m>\u001b[39m\u001b[39m=\u001b[39m startdate) \u001b[39m&\u001b[39m (data\u001b[39m.\u001b[39mindex\u001b[39m.\u001b[39mdate \u001b[39m<\u001b[39m enddate)\n\u001b[1;32m    125\u001b[0m wydata \u001b[39m=\u001b[39m data\u001b[39m.\u001b[39mSWE[timemask]\n\u001b[0;32m--> 126\u001b[0m maxval \u001b[39m=\u001b[39m np\u001b[39m.\u001b[39;49mnanmax(wydata)\n\u001b[1;32m    127\u001b[0m maxarg \u001b[39m=\u001b[39m np\u001b[39m.\u001b[39mnanargmax(wydata)\n\u001b[1;32m    128\u001b[0m maxdate \u001b[39m=\u001b[39m wydata\u001b[39m.\u001b[39mindex[maxarg]\u001b[39m.\u001b[39mdate()\n",
      "File \u001b[0;32m<__array_function__ internals>:180\u001b[0m, in \u001b[0;36mnanmax\u001b[0;34m(*args, **kwargs)\u001b[0m\n",
      "File \u001b[0;32m~/.conda/envs/fos/lib/python3.9/site-packages/numpy/lib/nanfunctions.py:483\u001b[0m, in \u001b[0;36mnanmax\u001b[0;34m(a, axis, out, keepdims, initial, where)\u001b[0m\n\u001b[1;32m    480\u001b[0m \u001b[39melse\u001b[39;00m:\n\u001b[1;32m    481\u001b[0m     \u001b[39m# Slow, but safe for subclasses of ndarray\u001b[39;00m\n\u001b[1;32m    482\u001b[0m     a, mask \u001b[39m=\u001b[39m _replace_nan(a, \u001b[39m-\u001b[39mnp\u001b[39m.\u001b[39minf)\n\u001b[0;32m--> 483\u001b[0m     res \u001b[39m=\u001b[39m np\u001b[39m.\u001b[39;49mamax(a, axis\u001b[39m=\u001b[39;49maxis, out\u001b[39m=\u001b[39;49mout, \u001b[39m*\u001b[39;49m\u001b[39m*\u001b[39;49mkwargs)\n\u001b[1;32m    484\u001b[0m     \u001b[39mif\u001b[39;00m mask \u001b[39mis\u001b[39;00m \u001b[39mNone\u001b[39;00m:\n\u001b[1;32m    485\u001b[0m         \u001b[39mreturn\u001b[39;00m res\n",
      "File \u001b[0;32m<__array_function__ internals>:180\u001b[0m, in \u001b[0;36mamax\u001b[0;34m(*args, **kwargs)\u001b[0m\n",
      "File \u001b[0;32m~/.conda/envs/fos/lib/python3.9/site-packages/numpy/core/fromnumeric.py:2793\u001b[0m, in \u001b[0;36mamax\u001b[0;34m(a, axis, out, keepdims, initial, where)\u001b[0m\n\u001b[1;32m   2677\u001b[0m \u001b[39m@array_function_dispatch\u001b[39m(_amax_dispatcher)\n\u001b[1;32m   2678\u001b[0m \u001b[39mdef\u001b[39;00m \u001b[39mamax\u001b[39m(a, axis\u001b[39m=\u001b[39m\u001b[39mNone\u001b[39;00m, out\u001b[39m=\u001b[39m\u001b[39mNone\u001b[39;00m, keepdims\u001b[39m=\u001b[39mnp\u001b[39m.\u001b[39m_NoValue, initial\u001b[39m=\u001b[39mnp\u001b[39m.\u001b[39m_NoValue,\n\u001b[1;32m   2679\u001b[0m          where\u001b[39m=\u001b[39mnp\u001b[39m.\u001b[39m_NoValue):\n\u001b[1;32m   2680\u001b[0m     \u001b[39m\"\"\"\u001b[39;00m\n\u001b[1;32m   2681\u001b[0m \u001b[39m    Return the maximum of an array or maximum along an axis.\u001b[39;00m\n\u001b[1;32m   2682\u001b[0m \n\u001b[0;32m   (...)\u001b[0m\n\u001b[1;32m   2791\u001b[0m \u001b[39m    5\u001b[39;00m\n\u001b[1;32m   2792\u001b[0m \u001b[39m    \"\"\"\u001b[39;00m\n\u001b[0;32m-> 2793\u001b[0m     \u001b[39mreturn\u001b[39;00m _wrapreduction(a, np\u001b[39m.\u001b[39;49mmaximum, \u001b[39m'\u001b[39;49m\u001b[39mmax\u001b[39;49m\u001b[39m'\u001b[39;49m, axis, \u001b[39mNone\u001b[39;49;00m, out,\n\u001b[1;32m   2794\u001b[0m                           keepdims\u001b[39m=\u001b[39;49mkeepdims, initial\u001b[39m=\u001b[39;49minitial, where\u001b[39m=\u001b[39;49mwhere)\n",
      "File \u001b[0;32m~/.conda/envs/fos/lib/python3.9/site-packages/numpy/core/fromnumeric.py:86\u001b[0m, in \u001b[0;36m_wrapreduction\u001b[0;34m(obj, ufunc, method, axis, dtype, out, **kwargs)\u001b[0m\n\u001b[1;32m     83\u001b[0m         \u001b[39melse\u001b[39;00m:\n\u001b[1;32m     84\u001b[0m             \u001b[39mreturn\u001b[39;00m reduction(axis\u001b[39m=\u001b[39maxis, out\u001b[39m=\u001b[39mout, \u001b[39m*\u001b[39m\u001b[39m*\u001b[39mpasskwargs)\n\u001b[0;32m---> 86\u001b[0m \u001b[39mreturn\u001b[39;00m ufunc\u001b[39m.\u001b[39;49mreduce(obj, axis, dtype, out, \u001b[39m*\u001b[39;49m\u001b[39m*\u001b[39;49mpasskwargs)\n",
      "\u001b[0;31mValueError\u001b[0m: zero-size array to reduction operation maximum which has no identity"
     ]
    }
   ],
   "source": [
    "snotel_gdf, _, _, _ = util.get_coords()\n",
    "wrf_df = util.create_wrf_df(snotel_gdf)\n"
   ]
  },
  {
   "cell_type": "code",
   "execution_count": null,
   "metadata": {},
   "outputs": [],
   "source": []
  }
 ],
 "metadata": {
  "kernelspec": {
   "display_name": "Python 3",
   "language": "python",
   "name": "python3"
  },
  "language_info": {
   "codemirror_mode": {
    "name": "ipython",
    "version": 3
   },
   "file_extension": ".py",
   "mimetype": "text/x-python",
   "name": "python",
   "nbconvert_exporter": "python",
   "pygments_lexer": "ipython3",
   "version": "3.9.15"
  },
  "orig_nbformat": 4,
  "vscode": {
   "interpreter": {
    "hash": "5804a49b964f88987e504a74b1664f95368ceb71a0fac815832e5630280b8d84"
   }
  }
 },
 "nbformat": 4,
 "nbformat_minor": 2
}
